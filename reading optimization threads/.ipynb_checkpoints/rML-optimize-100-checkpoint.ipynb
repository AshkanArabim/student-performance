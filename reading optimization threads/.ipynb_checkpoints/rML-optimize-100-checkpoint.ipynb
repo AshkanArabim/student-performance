{
 "cells": [
  {
   "cell_type": "code",
   "execution_count": 1,
   "id": "d1ba3990",
   "metadata": {},
   "outputs": [],
   "source": [
    "import pandas as pd\n",
    "import numpy as np\n",
    "import sklearn as sk\n",
    "from sklearn.model_selection import train_test_split\n",
    "from sklearn.ensemble import RandomForestRegressor"
   ]
  },
  {
   "cell_type": "code",
   "execution_count": 2,
   "id": "a0e56432",
   "metadata": {},
   "outputs": [],
   "source": [
    "# model to predit math scores\n",
    "\n",
    "df = pd.read_csv(\"./StudentsPerformance.csv\")\n",
    "\n",
    "#drop non-math scores\n",
    "df = df.drop('math score', axis = 1)\n",
    "df = df.drop('writing score', axis = 1)\n",
    "\n",
    "# convert categories into machine readable format\n",
    "df = pd.get_dummies(df)\n",
    "\n",
    "# select values you wanna predict\n",
    "labels = np.array(df[\"reading score\"])\n",
    "\n",
    "# drop labels\n",
    "df = df.drop('reading score', axis = 1)\n",
    "\n",
    "# save feature names for later use\n",
    "df_list = list(df.columns)\n",
    "\n",
    "# convert df to numpy array\n",
    "df = np.array(df)"
   ]
  },
  {
   "cell_type": "code",
   "execution_count": null,
   "id": "2ee143b9",
   "metadata": {},
   "outputs": [
    {
     "name": "stdout",
     "output_type": "stream",
     "text": [
      "-------- first: 88 second:  0\n",
      "average absolute error: 11.827928393418992 points\n",
      "88.17207160658101\n",
      "replacing\n",
      "max acc: 88.17207160658101\n",
      "-------- first: 88 second:  1\n",
      "average absolute error: 11.821153166958513 points\n",
      "88.17884683304149\n",
      "replacing\n",
      "max acc: 88.17884683304149\n",
      "-------- first: 88 second:  2\n",
      "average absolute error: 11.815060024105982 points\n",
      "88.18493997589403\n",
      "replacing\n",
      "max acc: 88.18493997589403\n",
      "-------- first: 88 second:  3\n",
      "average absolute error: 11.81923062772002 points\n",
      "88.18076937227998\n",
      "max acc: 88.18493997589403\n",
      "-------- first: 88 second:  4\n"
     ]
    }
   ],
   "source": [
    "# split data into training and testing sets\n",
    "\n",
    "#the fuck is random state exactly???\n",
    "# random state 20 is dope\n",
    "\n",
    "r1 = 0\n",
    "r2 = 0\n",
    "accuracy = 0\n",
    "for x in range(88, 100):\n",
    "    for y in range(0, 100):\n",
    "        train_df, test_df, train_labels, test_labels = train_test_split(df, labels, test_size = 0.25, random_state = x)\n",
    "\n",
    "        print('--------', 'first:', x, 'second: ', y)\n",
    "\n",
    "        # define model with 1000 trees\n",
    "        # random state 99 is dope: 89.03\n",
    "        rf = RandomForestRegressor(n_estimators = 1000, random_state = y)\n",
    "\n",
    "        # Train on training data\n",
    "        rf.fit(train_df, train_labels)\n",
    "\n",
    "        # predict...\n",
    "        predictions = rf.predict(test_df)\n",
    "\n",
    "        # calculate absolute errors (+/- doesn't matter)\n",
    "        errors = abs(predictions - test_labels)\n",
    "        avg_error = np.mean(errors)\n",
    "        print('average absolute error:', avg_error, \"points\")\n",
    "        temp_accuracy = 100 - avg_error\n",
    "        \n",
    "        print(temp_accuracy)\n",
    "        if (temp_accuracy > accuracy):\n",
    "            r1 = x\n",
    "            r2 = y\n",
    "            print('replacing')\n",
    "            accuracy = temp_accuracy\n",
    "        print('max acc:', accuracy)\n",
    "\n",
    "print('accuracy:', accuracy)"
   ]
  }
 ],
 "metadata": {
  "kernelspec": {
   "display_name": "Python 3 (ipykernel)",
   "language": "python",
   "name": "python3"
  },
  "language_info": {
   "codemirror_mode": {
    "name": "ipython",
    "version": 3
   },
   "file_extension": ".py",
   "mimetype": "text/x-python",
   "name": "python",
   "nbconvert_exporter": "python",
   "pygments_lexer": "ipython3",
   "version": "3.9.13"
  }
 },
 "nbformat": 4,
 "nbformat_minor": 5
}
