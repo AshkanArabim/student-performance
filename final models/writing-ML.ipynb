{
 "cells": [
  {
   "cell_type": "code",
   "execution_count": 7,
   "id": "d1ba3990",
   "metadata": {},
   "outputs": [],
   "source": [
    "import pandas as pd\n",
    "import numpy as np\n",
    "import sklearn as sk\n",
    "from sklearn.model_selection import train_test_split\n",
    "from sklearn.ensemble import RandomForestRegressor"
   ]
  },
  {
   "cell_type": "code",
   "execution_count": 8,
   "id": "a0e56432",
   "metadata": {},
   "outputs": [],
   "source": [
    "# model to predit writing scores\n",
    "\n",
    "df = pd.read_csv(\"./StudentsPerformance.csv\")\n",
    "\n",
    "#drop non-writing scores\n",
    "df = df.drop('reading score', axis = 1)\n",
    "df = df.drop('math score', axis = 1)\n",
    "\n",
    "# convert categories into machine readable format\n",
    "df = pd.get_dummies(df)\n",
    "\n",
    "# select values you wanna predict\n",
    "labels = np.array(df[\"writing score\"])\n",
    "\n",
    "# drop labels\n",
    "df = df.drop('writing score', axis = 1)\n",
    "\n",
    "# save feature names for later use\n",
    "df_list = list(df.columns)\n",
    "\n",
    "# convert df to numpy array\n",
    "df = np.array(df)"
   ]
  },
  {
   "cell_type": "code",
   "execution_count": 9,
   "id": "2ee143b9",
   "metadata": {},
   "outputs": [
    {
     "name": "stdout",
     "output_type": "stream",
     "text": [
      "Training Features Shape: (750, 17)\n",
      "Training Labels Shape: (750,)\n",
      "Testing Features Shape: (250, 17)\n",
      "Testing Labels Shape: (250,)\n"
     ]
    }
   ],
   "source": [
    "# split data into training and testing sets\n",
    "train_df, test_df, train_labels, test_labels = train_test_split(df, labels, test_size = 0.25, random_state = 92)\n",
    "\n",
    "print('Training Features Shape:', train_df.shape)\n",
    "print('Training Labels Shape:', train_labels.shape)\n",
    "print('Testing Features Shape:', test_df.shape)\n",
    "print('Testing Labels Shape:', test_labels.shape)"
   ]
  },
  {
   "cell_type": "code",
   "execution_count": 10,
   "id": "4a3f3446",
   "metadata": {},
   "outputs": [
    {
     "data": {
      "text/plain": [
       "RandomForestRegressor(n_estimators=1000, random_state=37)"
      ]
     },
     "execution_count": 10,
     "metadata": {},
     "output_type": "execute_result"
    }
   ],
   "source": [
    "# define model with 1000 trees\n",
    "# random state 99 is dope: 89.03\n",
    "rf = RandomForestRegressor(n_estimators = 1000, random_state = 37)\n",
    "\n",
    "# Train on training data\n",
    "rf.fit(train_df, train_labels)"
   ]
  },
  {
   "cell_type": "code",
   "execution_count": 11,
   "id": "6dd3099e",
   "metadata": {},
   "outputs": [
    {
     "name": "stdout",
     "output_type": "stream",
     "text": [
      "average absolute error: 10.234943335472147 points\n",
      "accuracy: 89.76505666452785\n"
     ]
    }
   ],
   "source": [
    "# test accuracy\n",
    "predictions = rf.predict(test_df)\n",
    "\n",
    "# calculate absolute errors (+/- doesn't matter)\n",
    "errors = abs(predictions - test_labels)\n",
    "avg_error = np.mean(errors)\n",
    "print('average absolute error:', avg_error, \"points\")\n",
    "accuracy = 100 - avg_error\n",
    "print('accuracy:', accuracy)"
   ]
  },
  {
   "cell_type": "code",
   "execution_count": 13,
   "id": "6ba33e33",
   "metadata": {},
   "outputs": [
    {
     "name": "stdout",
     "output_type": "stream",
     "text": [
      "[58.47509365 62.87213372 52.77584802 85.60539429 70.63941032 68.92076529]\n",
      "Student 1 writing score: 58.0\n",
      "Student 2 writing score: 62.0\n",
      "Student 3 writing score: 52.0\n",
      "Student 4 writing score: 85.0\n",
      "Student 5 writing score: 70.0\n",
      "Student 6 writing score: 68.0\n"
     ]
    }
   ],
   "source": [
    "# predict the writing score of a sample student\n",
    "\n",
    "# initialize test user data\n",
    "# ss1 = sample student 1\n",
    "ss = pd.read_csv(\"./ss.csv\")\n",
    "# turn into machine readable format\n",
    "ss = pd.get_dummies(ss)\n",
    "# convert to 2d array\n",
    "ss_arr = ss.values\n",
    "\n",
    "pred = rf.predict(ss_arr)\n",
    "print(pred)\n",
    "for x in range(len(pred)):\n",
    "    print(\"Student \" + str(x+1) + \" writing score: \" + str(np.floor(pred[x])))"
   ]
  }
 ],
 "metadata": {
  "kernelspec": {
   "display_name": "Python 3 (ipykernel)",
   "language": "python",
   "name": "python3"
  },
  "language_info": {
   "codemirror_mode": {
    "name": "ipython",
    "version": 3
   },
   "file_extension": ".py",
   "mimetype": "text/x-python",
   "name": "python",
   "nbconvert_exporter": "python",
   "pygments_lexer": "ipython3",
   "version": "3.9.13"
  }
 },
 "nbformat": 4,
 "nbformat_minor": 5
}
